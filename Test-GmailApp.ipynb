{
 "cells": [
  {
   "cell_type": "code",
   "execution_count": 5,
   "id": "2a492de3",
   "metadata": {},
   "outputs": [],
   "source": [
    "# pip install langchain\n",
    "# pip install streamlit\n",
    "# pip install openAI"
   ]
  },
  {
   "cell_type": "code",
   "execution_count": 6,
   "id": "4334d886",
   "metadata": {},
   "outputs": [
    {
     "name": "stderr",
     "output_type": "stream",
     "text": [
      "2023-07-31 13:18:06.584 \n",
      "  \u001b[33m\u001b[1mWarning:\u001b[0m to view this Streamlit app on a browser, run it with the following\n",
      "  command:\n",
      "\n",
      "    streamlit run /Users/hanyueyin/opt/anaconda3/lib/python3.9/site-packages/ipykernel_launcher.py [ARGUMENTS]\n"
     ]
    }
   ],
   "source": [
    "import streamlit as st\n",
    "from langchain import PromptTemplate\n",
    "from langchain.llms import OpenAI\n",
    "\n",
    "template = \"\"\"\n",
    "    Below is an email that may be poorly worded.\n",
    "    Your goal is to:\n",
    "    - Properly format the email\n",
    "    - Convert the input text to a specified tone\n",
    "    - Convert the input text to a specified dialect\n",
    "\n",
    "    Here are some examples different Tones:\n",
    "    - Formal: We went to Barcelona for the weekend. We have a lot of things to tell you.\n",
    "    - Informal: Went to Barcelona for the weekend. Lots to tell you.  \n",
    "\n",
    "    Here are some examples of words in different dialects:\n",
    "    - American: French Fries, cotton candy, apartment, garbage, cookie, green thumb, parking lot, pants, windshield\n",
    "    - British: chips, candyfloss, flag, rubbish, biscuit, green fingers, car park, trousers, windscreen\n",
    "\n",
    "    Example Sentences from each dialect:\n",
    "    - American: I headed straight for the produce section to grab some fresh vegetables, like bell peppers and zucchini. After that, I made my way to the meat department to pick up some chicken breasts.\n",
    "    - British: Well, I popped down to the local shop just the other day to pick up a few bits and bobs. As I was perusing the aisles, I noticed that they were fresh out of biscuits, which was a bit of a disappointment, as I do love a good cuppa with a biscuit or two.\n",
    "\n",
    "    Please start the email with a warm introduction. Add the introduction if you need to.\n",
    "    \n",
    "    Below is the email, tone, and dialect:\n",
    "    TONE: {tone}\n",
    "    DIALECT: {dialect}\n",
    "    EMAIL: {email}\n",
    "    \n",
    "    YOUR {dialect} RESPONSE:\n",
    "\"\"\"\n",
    "\n",
    "prompt = PromptTemplate(\n",
    "    input_variables=[\"tone\", \"dialect\", \"email\"],\n",
    "    template=template,\n",
    ")\n",
    "\n",
    "def load_LLM(openai_api_key):\n",
    "    \"\"\"Logic for loading the chain you want to use should go here.\"\"\"\n",
    "    # Make sure your openai_api_key is set as an environment variable\n",
    "    llm = OpenAI(temperature=.7, openai_api_key=openai_api_key)\n",
    "    return llm\n",
    "\n",
    "st.set_page_config(page_title=\"Globalize Email\", page_icon=\":robot:\")\n",
    "st.header(\"Globalize Text\")\n",
    "\n",
    "col1, col2 = st.columns(2)\n",
    "\n",
    "with col1:\n",
    "    st.markdown(\"Often professionals would like to improve their emails, but don't have the skills to do so. \\n\\n This tool \\\n",
    "                will help you improve your email skills by converting your emails into a more professional format. This tool \\\n",
    "                is powered by [LangChain](https://langchain.com/) and [OpenAI](https://openai.com) \")\n",
    "\n",
    "with col2:\n",
    "    pass\n",
    "\n",
    "st.markdown(\"## Enter Your Email To Convert\")\n",
    "\n",
    "def get_api_key():\n",
    "    input_text = st.text_input(label=\"OpenAI API Key \",  placeholder=\"Ex: sk-2twmA8tfCb8un4...\", key=\"openai_api_key_input\")\n",
    "    return input_text\n",
    "\n",
    "openai_api_key = get_api_key()\n",
    "\n",
    "col1, col2 = st.columns(2)\n",
    "with col1:\n",
    "    option_tone = st.selectbox(\n",
    "        'Which tone would you like your email to have?',\n",
    "        ('Formal', 'Informal'))\n",
    "    \n",
    "with col2:\n",
    "    option_dialect = st.selectbox(\n",
    "        'Which English Dialect would you like?',\n",
    "        ('American', 'British'))\n",
    "\n",
    "def get_text():\n",
    "    input_text = st.text_area(label=\"Email Input\", label_visibility='collapsed', placeholder=\"Your Email...\", key=\"email_input\")\n",
    "    return input_text\n",
    "\n",
    "email_input = get_text()\n",
    "\n",
    "if len(email_input.split(\" \")) > 700:\n",
    "    st.write(\"Please enter a shorter email. The maximum length is 700 words.\")\n",
    "    st.stop()\n",
    "\n",
    "def update_text_with_example():\n",
    "    print (\"in updated\")\n",
    "    st.session_state.email_input = \"Sally I am starts work at yours monday from dave\"\n",
    "\n",
    "st.button(\"*See An Example*\", type='secondary', help=\"Click to see an example of the email you will be converting.\", on_click=update_text_with_example)\n",
    "\n",
    "st.markdown(\"### Your Converted Email:\")\n",
    "\n",
    "if email_input:\n",
    "    if not openai_api_key:\n",
    "        st.warning('Please insert OpenAI API Key. Instructions [here](https://help.openai.com/en/articles/4936850-where-do-i-find-my-secret-api-key)', icon=\"⚠️\")\n",
    "        st.stop()\n",
    "\n",
    "    llm = load_LLM(openai_api_key=openai_api_key)\n",
    "\n",
    "    prompt_with_email = prompt.format(tone=option_tone, dialect=option_dialect, email=email_input)\n",
    "\n",
    "    formatted_email = llm(prompt_with_email)\n",
    "\n",
    "    st.write(formatted_email)"
   ]
  },
  {
   "cell_type": "code",
   "execution_count": 10,
   "id": "012b2ff7",
   "metadata": {},
   "outputs": [
    {
     "ename": "SyntaxError",
     "evalue": "invalid syntax (2053830674.py, line 1)",
     "output_type": "error",
     "traceback": [
      "\u001b[0;36m  Input \u001b[0;32mIn [10]\u001b[0;36m\u001b[0m\n\u001b[0;31m    streamlit-run '/Users/hanyueyin/opt/anaconda3/lib/python3.9/site-packages/ipykernel_launcher.py'\u001b[0m\n\u001b[0m                  ^\u001b[0m\n\u001b[0;31mSyntaxError\u001b[0m\u001b[0;31m:\u001b[0m invalid syntax\n"
     ]
    }
   ],
   "source": [
    "# streamlit run '/Users/hanyueyin/opt/anaconda3/lib/python3.9/site-packages/ipykernel_launcher.py'"
   ]
  }
 ],
 "metadata": {
  "kernelspec": {
   "display_name": "Python 3 (ipykernel)",
   "language": "python",
   "name": "python3"
  },
  "language_info": {
   "codemirror_mode": {
    "name": "ipython",
    "version": 3
   },
   "file_extension": ".py",
   "mimetype": "text/x-python",
   "name": "python",
   "nbconvert_exporter": "python",
   "pygments_lexer": "ipython3",
   "version": "3.9.12"
  }
 },
 "nbformat": 4,
 "nbformat_minor": 5
}
